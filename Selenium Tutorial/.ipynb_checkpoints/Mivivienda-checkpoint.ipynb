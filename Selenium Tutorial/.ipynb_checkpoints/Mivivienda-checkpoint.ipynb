{
 "cells": [
  {
   "cell_type": "code",
   "execution_count": null,
   "id": "c3349661",
   "metadata": {},
   "outputs": [],
   "source": [
    "from selenium import webdriver\n",
    "path='C:/Users/Frank/Documents/GitHub/SeleniumRPA/Selenium Tutorial/chromedriver.exe'\n",
    "driver=webdriver.Chrome(path)\n",
    "driver.get('https://www.mivivienda.com.pe/PortalWEB/usuario-busca-viviendas/buscador-detalle.aspx?op=ncmv&nom=&dep=LIMA&pro=LIMA&dis=--Seleccione--&amin=&amax=&almin=&almax=&pmin=&pmax=&bv=1&exp=0')\n",
    "print(driver.title)\n",
    "driver.quit()"
   ]
  }
 ],
 "metadata": {
  "kernelspec": {
   "display_name": "Python 3",
   "language": "python",
   "name": "python3"
  },
  "language_info": {
   "codemirror_mode": {
    "name": "ipython",
    "version": 3
   },
   "file_extension": ".py",
   "mimetype": "text/x-python",
   "name": "python",
   "nbconvert_exporter": "python",
   "pygments_lexer": "ipython3",
   "version": "3.9.4"
  }
 },
 "nbformat": 4,
 "nbformat_minor": 5
}
